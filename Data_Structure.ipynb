{
 "cells": [
  {
   "cell_type": "markdown",
   "id": "da1be3f9",
   "metadata": {},
   "source": [
    "## Data Structure:-"
   ]
  },
  {
   "cell_type": "markdown",
   "id": "33f04931",
   "metadata": {},
   "source": [
    "A data structure is a specialized way of storing and organizing data in Python so it can be accessed and manipulated efficiently."
   ]
  },
  {
   "cell_type": "markdown",
   "id": "90798959",
   "metadata": {},
   "source": [
    "Types of data structure:-\n",
    "- Lists\n",
    "- Tuples\n",
    "- Dictionary\n",
    "- Sets"
   ]
  },
  {
   "cell_type": "markdown",
   "id": "27a216c2",
   "metadata": {},
   "source": [
    "### List:-"
   ]
  },
  {
   "cell_type": "markdown",
   "id": "305cfe7f",
   "metadata": {},
   "source": [
    "A bag of items (you can change thing). List are collection that can be changed (add,remove or update)"
   ]
  },
  {
   "cell_type": "code",
   "execution_count": null,
   "id": "021aaab9",
   "metadata": {},
   "outputs": [],
   "source": [
    "colors=[\"red\",\"green\",\"yellow\",\"pink\",\"black\"]\n",
    "colors[1]=\"blue\" #rplace item by position\n",
    "print(colors)\n",
    "removed_items=colors.pop() # remove last item\n",
    "print(colors)\n",
    "colors.append(removed_items) # restore last item\n",
    "print(colors)\n",
    "colors.remove(\"yellow\") # remove the first matching value\n",
    "print(colors)"
   ]
  },
  {
   "cell_type": "markdown",
   "id": "16aa82e9",
   "metadata": {},
   "source": [
    "### Tuples:-"
   ]
  },
  {
   "cell_type": "markdown",
   "id": "77c9485f",
   "metadata": {},
   "source": [
    "Tuples are just likes list but you cannot change their values."
   ]
  },
  {
   "cell_type": "code",
   "execution_count": 22,
   "id": "d2fc2d55",
   "metadata": {},
   "outputs": [
    {
     "name": "stdout",
     "output_type": "stream",
     "text": [
      "('apple', 'banana', 'cherry')\n",
      "banana\n"
     ]
    }
   ],
   "source": [
    "box = (\"apple\", \"banana\", \"cherry\")  # make\n",
    "print(box)\n",
    "print(box[1])   "
   ]
  },
  {
   "cell_type": "markdown",
   "id": "e4966990",
   "metadata": {},
   "source": [
    "### Dictionary:-"
   ]
  },
  {
   "cell_type": "markdown",
   "id": "b5c251fa",
   "metadata": {},
   "source": [
    "A dictionary (or dict) is an unordered collection of key → value pairs, written with curly braces {}. Each key must be unique and immutable; values can be any type."
   ]
  },
  {
   "cell_type": "code",
   "execution_count": 26,
   "id": "6870425c",
   "metadata": {},
   "outputs": [
    {
     "name": "stdout",
     "output_type": "stream",
     "text": [
      "Ayesha\n",
      "{'name': 'Ayesha', 'age': 21, 'major': 'CS'}\n",
      "name: Ayesha, age: 21, major: CS\n"
     ]
    }
   ],
   "source": [
    "student = {\"name\": \"Ayesha\", \"age\": 20, \"grade\": \"A-Level\"}\n",
    "\n",
    "# read\n",
    "print(student[\"name\"])\n",
    "\n",
    "# update\n",
    "student[\"age\"] = 21\n",
    "\n",
    "# add new pair\n",
    "student[\"major\"] = \"CS\"\n",
    "\n",
    "# remove a pair\n",
    "removed = student.pop(\"grade\")\n",
    "\n",
    "print(student)\n",
    "pretty = \", \".join(f\"{key}: {value}\" for key, value in student.items())\n",
    "print(pretty)"
   ]
  },
  {
   "cell_type": "markdown",
   "id": "c1f86674",
   "metadata": {},
   "source": [
    "### Set:-"
   ]
  },
  {
   "cell_type": "markdown",
   "id": "82910647",
   "metadata": {},
   "source": [
    "A set is an unordered, mutable collection of unique items, written with curly braces {} or the set() constructor."
   ]
  },
  {
   "cell_type": "code",
   "execution_count": 27,
   "id": "84e62098",
   "metadata": {},
   "outputs": [
    {
     "name": "stdout",
     "output_type": "stream",
     "text": [
      "primes: {2, 3, 5, 7, 11}\n",
      "common: {2}\n",
      "combined: {2, 3, 4, 5, 6, 7, 8, 11}\n",
      "only primes: {11, 3, 5, 7}\n"
     ]
    }
   ],
   "source": [
    "primes = {2, 3, 5, 7}\n",
    "primes.add(11)          # add new\n",
    "primes.add(7)           # duplicate ignored\n",
    "\n",
    "evens = {2, 4, 6, 8}\n",
    "\n",
    "common   = primes & evens      # intersection\n",
    "combined = primes | evens      # union\n",
    "only_p   = primes - evens      # difference\n",
    "\n",
    "print(\"primes:\", primes)\n",
    "print(\"common:\", common)\n",
    "print(\"combined:\", combined)\n",
    "print(\"only primes:\", only_p)"
   ]
  }
 ],
 "metadata": {
  "kernelspec": {
   "display_name": "base",
   "language": "python",
   "name": "python3"
  },
  "language_info": {
   "codemirror_mode": {
    "name": "ipython",
    "version": 3
   },
   "file_extension": ".py",
   "mimetype": "text/x-python",
   "name": "python",
   "nbconvert_exporter": "python",
   "pygments_lexer": "ipython3",
   "version": "3.12.9"
  }
 },
 "nbformat": 4,
 "nbformat_minor": 5
}
