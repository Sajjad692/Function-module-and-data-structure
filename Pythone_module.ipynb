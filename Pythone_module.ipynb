{
 "cells": [
  {
   "cell_type": "markdown",
   "id": "4017e0ba",
   "metadata": {},
   "source": [
    "## OS Module:-"
   ]
  },
  {
   "cell_type": "markdown",
   "id": "18f4955b",
   "metadata": {},
   "source": [
    "The OS module allows python to intract with the operater system. You can:-\n",
    "- Create or delete folder\n",
    "- Access files and folder info\n",
    "- Check or change the current directory."
   ]
  },
  {
   "cell_type": "markdown",
   "id": "1f2cd96c",
   "metadata": {},
   "source": [
    "Suppose to create folder on your computer to store photos. Using python OS module, you can automate this task."
   ]
  },
  {
   "cell_type": "code",
   "execution_count": null,
   "id": "78d8be60",
   "metadata": {},
   "outputs": [
    {
     "name": "stdout",
     "output_type": "stream",
     "text": [
      "Folder Mypics has been created\n"
     ]
    }
   ],
   "source": [
    "# Exercise\n",
    "import os\n",
    "folder_name=\"Mypics\"\n",
    "os.mkdir(folder_name) # mkdir means make directory\n",
    "print(f\"Folder {folder_name} has been created\")"
   ]
  },
  {
   "cell_type": "markdown",
   "id": "8f3ad508",
   "metadata": {},
   "source": [
    "## Math Module:"
   ]
  },
  {
   "cell_type": "markdown",
   "id": "2952d600",
   "metadata": {},
   "source": [
    "Math modules provide many mathematically functions such as:-\n",
    "- Square root\n",
    "- Rounding numbers\n",
    "- Sin, Cos, Log\n",
    "- Power calculation\n"
   ]
  },
  {
   "cell_type": "code",
   "execution_count": 5,
   "id": "b1b46275",
   "metadata": {},
   "outputs": [
    {
     "name": "stdout",
     "output_type": "stream",
     "text": [
      "The square root of 125 is:11.180339887498949\n"
     ]
    }
   ],
   "source": [
    "# Exercise Square root\n",
    "import math\n",
    "number=125\n",
    "Root=math.sqrt(number)\n",
    "print(f\"The square root of {number} is:{Root}\")"
   ]
  },
  {
   "cell_type": "code",
   "execution_count": 6,
   "id": "12b74cc7",
   "metadata": {},
   "outputs": [
    {
     "name": "stdout",
     "output_type": "stream",
     "text": [
      "The square root of 125 is:11.18\n"
     ]
    }
   ],
   "source": [
    "# Exercise rounding numbers\n",
    "import math\n",
    "number=125\n",
    "Root=math.sqrt(number)\n",
    "# round the reslut with 2 decimals only.\n",
    "Root=round(Root, 2)\n",
    "print(f\"The square root of {number} is:{Root}\")"
   ]
  },
  {
   "cell_type": "code",
   "execution_count": null,
   "id": "8b863d77",
   "metadata": {},
   "outputs": [],
   "source": [
    "# Exercise2 rounding numbers\n",
    "import math\n",
    "number=8.676789\n",
    "# round down (Floor)\n",
    "down=math.floor(number)\n",
    "\n",
    "# round up (Ceil)\n",
    "up=math.ceil(number)\n",
    "\n",
    "# Whole Round (Trunc)\n",
    "Whole=math.trunc(number)\n",
    "\n",
    "print(f\"Orignal Number:\", number)\n",
    "print(f\"Round Down (Floor):\", down)\n",
    "print(f\"Round Up (Ceil):\", up )\n",
    "print(f\"Whole Round (Trunc):\", Whole)\n",
    "\n",
    "# round specific decimals\n",
    "print(f\"Round Specific Decimals:\",round(number, 2)) \n",
    "# Also works auto round up & down as per maths rules\n"
   ]
  },
  {
   "cell_type": "code",
   "execution_count": 28,
   "id": "ad47d27a",
   "metadata": {},
   "outputs": [
    {
     "name": "stdout",
     "output_type": "stream",
     "text": [
      "Radians: 1.5707963267948966\n",
      "Sin of 90°: 1.0\n"
     ]
    }
   ],
   "source": [
    "# Example Sin\n",
    "import math\n",
    "degree=90\n",
    "radian=math.radians(degree)\n",
    "print(\"Radians:\",radian)\n",
    "print(\"Sin of 90°:\",math.sin(radian))"
   ]
  },
  {
   "cell_type": "code",
   "execution_count": 30,
   "id": "a9b4edd6",
   "metadata": {},
   "outputs": [
    {
     "name": "stdout",
     "output_type": "stream",
     "text": [
      "Radians: 1.5707963267948966\n",
      "Cos of 90°: 6.123233995736766e-17\n"
     ]
    }
   ],
   "source": [
    "# Example Cos\n",
    "import math\n",
    "degree=90\n",
    "radian=math.radians(degree)\n",
    "print(\"Radians:\",radian)\n",
    "print(\"Cos of 90°:\",math.cos(radian))\n",
    "# result=(math.cos(radian))\n",
    "# print(\"Cos of 90°:\",(round(result, 2)))"
   ]
  },
  {
   "cell_type": "code",
   "execution_count": 60,
   "id": "de8ea72e",
   "metadata": {},
   "outputs": [
    {
     "name": "stdout",
     "output_type": "stream",
     "text": [
      "3.9889840465642745\n",
      "1.7323937598229686\n",
      "Log base 12 of 54 is: 1.6052852717443509\n"
     ]
    }
   ],
   "source": [
    "# Example of Log (opposite of exponent)\n",
    "import math\n",
    "# print(math.e) # e is constant having value 2.718281828459045\n",
    "\n",
    "# for natural log\n",
    "print(math.log(54))\n",
    "# print(2.718281828459045**3.9889840465642745) # exponent\n",
    "\n",
    "# Example for common log 10\n",
    "print(math.log10(54))\n",
    "\n",
    "# Example of log 10 with total 54\n",
    "result = math.log(54, 12)\n",
    "print(\"Log base 12 of 54 is:\", result)\n",
    "# print(12**1.6052852717443509) #exponent\n"
   ]
  },
  {
   "cell_type": "code",
   "execution_count": 59,
   "id": "c2f662ca",
   "metadata": {},
   "outputs": [
    {
     "name": "stdout",
     "output_type": "stream",
     "text": [
      "81.0\n",
      "1525.88\n"
     ]
    }
   ],
   "source": [
    "# Example Power Calculation\n",
    "import math\n",
    "def power(base, exponent):\n",
    "    result=math.pow(base, exponent)\n",
    "    return result\n",
    "print(power(3, 4))\n",
    "print(round(power(2.5, 8),2))"
   ]
  }
 ],
 "metadata": {
  "kernelspec": {
   "display_name": "base",
   "language": "python",
   "name": "python3"
  },
  "language_info": {
   "codemirror_mode": {
    "name": "ipython",
    "version": 3
   },
   "file_extension": ".py",
   "mimetype": "text/x-python",
   "name": "python",
   "nbconvert_exporter": "python",
   "pygments_lexer": "ipython3",
   "version": "3.12.9"
  }
 },
 "nbformat": 4,
 "nbformat_minor": 5
}
