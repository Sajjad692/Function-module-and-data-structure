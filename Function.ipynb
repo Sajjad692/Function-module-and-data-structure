{
 "cells": [
  {
   "cell_type": "markdown",
   "id": "8f34395a",
   "metadata": {},
   "source": [
    "## What is Function:-"
   ]
  },
  {
   "cell_type": "markdown",
   "id": "3a8b8669",
   "metadata": {},
   "source": [
    "A function is a reuseable block of code that performs a specific task. You can call it (use it) whenever you need it, without writing the same code."
   ]
  },
  {
   "cell_type": "markdown",
   "id": "2dc672cf",
   "metadata": {},
   "source": [
    "### Why we use function:"
   ]
  },
  {
   "cell_type": "markdown",
   "id": "42e98d74",
   "metadata": {},
   "source": [
    "- To avoide repeating code.\n",
    "- To make your code cleaner, organized and easier to understand."
   ]
  },
  {
   "cell_type": "markdown",
   "id": "7894ad09",
   "metadata": {},
   "source": [
    "### Syntax of function:"
   ]
  },
  {
   "cell_type": "code",
   "execution_count": null,
   "id": "8f51826d",
   "metadata": {},
   "outputs": [],
   "source": [
    "def function_name(parameters):\n",
    "    # body (one or more indented lines)\n",
    "    return    # optional"
   ]
  },
  {
   "cell_type": "markdown",
   "id": "a323da53",
   "metadata": {},
   "source": [
    "- def – keyword that starts a function definition\n",
    "- function_name – descriptive identifier (snake_case)\n",
    "- parameters – placeholders for input values (can be empty)\n",
    "- return – sends a result back to the caller"
   ]
  },
  {
   "cell_type": "markdown",
   "id": "a8f0253b",
   "metadata": {},
   "source": [
    "### Function with Arguments:"
   ]
  },
  {
   "cell_type": "code",
   "execution_count": null,
   "id": "5939cd6f",
   "metadata": {},
   "outputs": [],
   "source": [
    "def greet(name):\n",
    "    print(f\"Hello, how are you {name}! nice to meet you.\")\n",
    "    \n"
   ]
  },
  {
   "cell_type": "markdown",
   "id": "b3381066",
   "metadata": {},
   "source": [
    "### Calling it..."
   ]
  },
  {
   "cell_type": "code",
   "execution_count": null,
   "id": "9d0f80e3",
   "metadata": {},
   "outputs": [],
   "source": [
    "# family=(f\"{\"sajjad Ahmad,\"}\\n{\"Aisha Sajjad,\"}\\n{\"Hareem Sajjad,\"}\\n{\"Arham Mir,\"}\\n{\"Rahim Mir\"}\")\n",
    "# greet(family)\n",
    "greet(\"Ali\")"
   ]
  },
  {
   "cell_type": "markdown",
   "id": "bf16b870",
   "metadata": {},
   "source": [
    "### Parameterless Function:"
   ]
  },
  {
   "cell_type": "code",
   "execution_count": null,
   "id": "fd0d9145",
   "metadata": {},
   "outputs": [],
   "source": [
    "def say_hello():\n",
    "    print(\"Hi, how are you?\")\n",
    "\n",
    "say_hello()"
   ]
  },
  {
   "cell_type": "markdown",
   "id": "38b77e32",
   "metadata": {},
   "source": [
    "### Function with Parameters and Return Value:"
   ]
  },
  {
   "cell_type": "code",
   "execution_count": null,
   "id": "a802d48b",
   "metadata": {},
   "outputs": [],
   "source": [
    "def add(a, b):\n",
    "    #Return the sum of a and b.\n",
    "    return(a + b)\n",
    "\n",
    "add(1234, 89)"
   ]
  },
  {
   "cell_type": "markdown",
   "id": "18c892b1",
   "metadata": {},
   "source": [
    "### Variable-Length Arguments:"
   ]
  },
  {
   "cell_type": "markdown",
   "id": "f61ab210",
   "metadata": {},
   "source": [
    "#### Definition:-\n",
    "- *args: lets a function accept any number of positional values.\n",
    "\n",
    "- **kwargs: lets it accept any number of keyword (name=value) pairs."
   ]
  },
  {
   "cell_type": "code",
   "execution_count": 48,
   "id": "2baa083f",
   "metadata": {},
   "outputs": [
    {
     "name": "stdout",
     "output_type": "stream",
     "text": [
      "60\n",
      "378\n",
      "1000\n"
     ]
    }
   ],
   "source": [
    "# *args\n",
    "def add_all(*nums):\n",
    "    total=(sum(nums))\n",
    "    print(total)\n",
    "    return total\n",
    "\n",
    "add_all(12,12,12,12,12)\n",
    "result=add_all(76,56,89,45,34,78)\n",
    "collection=add_all(300,200,500)"
   ]
  },
  {
   "cell_type": "code",
   "execution_count": null,
   "id": "f526f3bd",
   "metadata": {},
   "outputs": [],
   "source": [
    "# **kwargs\n",
    "def student_info(**kwargs):\n",
    "    for key, value in kwargs.items():\n",
    "        print(key, \":\", value)\n",
    "\n",
    "student_info(name=\"Ali\", city=\"Lahore\", grade=\"Seven\", age=16)"
   ]
  },
  {
   "cell_type": "markdown",
   "id": "f5a4952c",
   "metadata": {},
   "source": [
    "## Lambda (Anonymous) Function:"
   ]
  },
  {
   "cell_type": "markdown",
   "id": "02561917",
   "metadata": {},
   "source": [
    "A one‑line function written with the keyword lambda (no name needed).\n"
   ]
  },
  {
   "cell_type": "code",
   "execution_count": null,
   "id": "c69b79a6",
   "metadata": {},
   "outputs": [],
   "source": [
    "double = lambda x: x * 2\n",
    "print(double(4))     # 8\n",
    "\n",
    "numbers = 1, 2, 3, 4, 5\n",
    "squared = list(map(lambda x: x ** 2, numbers))\n",
    "print(squared)       # [1, 4, 9, 16]"
   ]
  },
  {
   "cell_type": "markdown",
   "id": "6736c3fc",
   "metadata": {},
   "source": [
    "## Recursive Function:"
   ]
  },
  {
   "cell_type": "markdown",
   "id": "8085b3ff",
   "metadata": {},
   "source": [
    "A function that calls itself to solve a problem by breaking it into smaller versions of the same problem."
   ]
  },
  {
   "cell_type": "code",
   "execution_count": null,
   "id": "6819778a",
   "metadata": {},
   "outputs": [],
   "source": [
    "def factorial(n):\n",
    "    if n == 0:        # base case\n",
    "        return 1\n",
    "    return n * factorial(n - 1)\n",
    "\n",
    "print(factorial(4))   # 24"
   ]
  },
  {
   "cell_type": "markdown",
   "id": "19aa54f6",
   "metadata": {},
   "source": [
    "## Higher‑Order Function:"
   ]
  },
  {
   "cell_type": "markdown",
   "id": "2c3f8d2a",
   "metadata": {},
   "source": [
    "A function that takes another function as an argument or returns a function."
   ]
  },
  {
   "cell_type": "code",
   "execution_count": null,
   "id": "34b71a58",
   "metadata": {},
   "outputs": [],
   "source": [
    "def shout(text):\n",
    "    return text.upper()\n",
    "\n",
    "def apply_once(function, meaaage):\n",
    "    return function(meaaage)\n",
    "\n",
    "print(apply_once(shout, \"hello its complicated\"))  "
   ]
  }
 ],
 "metadata": {
  "kernelspec": {
   "display_name": "base",
   "language": "python",
   "name": "python3"
  },
  "language_info": {
   "codemirror_mode": {
    "name": "ipython",
    "version": 3
   },
   "file_extension": ".py",
   "mimetype": "text/x-python",
   "name": "python",
   "nbconvert_exporter": "python",
   "pygments_lexer": "ipython3",
   "version": "3.12.9"
  }
 },
 "nbformat": 4,
 "nbformat_minor": 5
}
